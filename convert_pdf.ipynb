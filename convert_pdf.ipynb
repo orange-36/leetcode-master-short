{
 "cells": [
  {
   "cell_type": "code",
   "execution_count": 1,
   "metadata": {},
   "outputs": [],
   "source": [
    "import os\n",
    "import re\n",
    "import pypandoc\n",
    "\n",
    "def convert_md_links_in_text_to_pdf(text_file_path):\n",
    "    # 讀取 txt 檔案內容\n",
    "    with open(text_file_path, 'r', encoding='utf-8') as file:\n",
    "        content = file.read()\n",
    "\n",
    "    # 取得 ## 後的標題，用作檔案的主要名稱\n",
    "    title_match = re.search(r'##\\s*([\\u4e00-\\u9fff\\w]+)', content)\n",
    "    if not title_match:\n",
    "        print(\"未找到標題，請確認文件格式。\")\n",
    "        return\n",
    "    title = title_match.group(1)\n",
    "\n",
    "    # 尋找所有 Markdown 路徑\n",
    "    md_links = re.findall(r'\\[.*?\\]\\((.*?)\\.md\\)', content)\n",
    "    if not md_links:\n",
    "        print(\"未找到任何 .md 檔案路徑。\")\n",
    "        return\n",
    "\n",
    "    # 逐一轉換 Markdown 檔案為 PDF\n",
    "    for idx, md_link in enumerate(md_links, start=1):\n",
    "        md_file_path = f\"{md_link}.md\"\n",
    "        output_pdf_name = f\"./pdf/{title}_{idx}.pdf\"\n",
    "        \n",
    "        if os.path.exists(md_file_path):\n",
    "            # 使用 pandoc 將 .md 轉為 A4 大小的 PDF\n",
    "            pypandoc.convert_file(\n",
    "                md_file_path, 'pdf', outputfile=output_pdf_name,\n",
    "                extra_args=['-V', 'papersize=A4']\n",
    "            )\n",
    "            print(f'已將 {md_file_path} 轉換並儲存為 {output_pdf_name}')\n",
    "        else:\n",
    "            print(f\"找不到 Markdown 文件: {md_file_path}\")\n",
    "\n",
    "# 輸入 text 檔案路徑\n",
    "text_file_path = './copy.txt'\n",
    "convert_md_links_in_text_to_pdf(text_file_path)\n"
   ]
  }
 ],
 "metadata": {
  "kernelspec": {
   "display_name": "artc2023",
   "language": "python",
   "name": "python3"
  },
  "language_info": {
   "codemirror_mode": {
    "name": "ipython",
    "version": 3
   },
   "file_extension": ".py",
   "mimetype": "text/x-python",
   "name": "python",
   "nbconvert_exporter": "python",
   "pygments_lexer": "ipython3",
   "version": "3.7.16"
  }
 },
 "nbformat": 4,
 "nbformat_minor": 2
}
