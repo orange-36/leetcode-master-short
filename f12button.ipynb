{
 "cells": [
  {
   "cell_type": "code",
   "execution_count": 11,
   "metadata": {},
   "outputs": [
    {
     "name": "stdout",
     "output_type": "stream",
     "text": [
      "處理網址: https://github.com/orange-36/leetcode-master-short/blob/main/problems/0203.%E7%A7%BB%E9%99%A4%E9%93%BE%E8%A1%A8%E5%85%83%E7%B4%A0.md\n",
      "已將頁面截圖保存至: ./pdf/0001.png\n",
      "處理網址: 2. [数组：704.二分查找](./problems/0704.二分查找.md)\n"
     ]
    },
    {
     "ename": "InvalidArgumentException",
     "evalue": "Message: invalid argument\n  (Session info: chrome=130.0.6723.92)\nStacktrace:\n\tGetHandleVerifier [0x00007FF759F63AF5+28005]\n\t(No symbol) [0x00007FF759EC83F0]\n\t(No symbol) [0x00007FF759D65639]\n\t(No symbol) [0x00007FF759D531C3]\n\t(No symbol) [0x00007FF759D515AD]\n\t(No symbol) [0x00007FF759D51DEC]\n\t(No symbol) [0x00007FF759D688AA]\n\t(No symbol) [0x00007FF759DFC6DE]\n\t(No symbol) [0x00007FF759DDBA3A]\n\t(No symbol) [0x00007FF759DFB8B3]\n\t(No symbol) [0x00007FF759DDB7E3]\n\t(No symbol) [0x00007FF759DA75C8]\n\t(No symbol) [0x00007FF759DA8731]\n\tGetHandleVerifier [0x00007FF75A25646D+3118813]\n\tGetHandleVerifier [0x00007FF75A2A6CC0+3448624]\n\tGetHandleVerifier [0x00007FF75A29CF3D+3408301]\n\tGetHandleVerifier [0x00007FF75A02A44B+841403]\n\t(No symbol) [0x00007FF759ED344F]\n\t(No symbol) [0x00007FF759ECF4C4]\n\t(No symbol) [0x00007FF759ECF65D]\n\t(No symbol) [0x00007FF759EBEBB9]\n\tBaseThreadInitThunk [0x00007FFF1B5D257D+29]\n\tRtlUserThreadStart [0x00007FFF1C64AF08+40]\n",
     "output_type": "error",
     "traceback": [
      "\u001b[1;31m---------------------------------------------------------------------------\u001b[0m",
      "\u001b[1;31mInvalidArgumentException\u001b[0m                  Traceback (most recent call last)",
      "\u001b[1;32m~\\AppData\\Local\\Temp\\ipykernel_46104\\2509740762.py\u001b[0m in \u001b[0;36m<module>\u001b[1;34m\u001b[0m\n\u001b[0;32m     66\u001b[0m \u001b[1;31m# 使用範例\u001b[0m\u001b[1;33m\u001b[0m\u001b[1;33m\u001b[0m\u001b[1;33m\u001b[0m\u001b[0m\n\u001b[0;32m     67\u001b[0m \u001b[0mfile_path\u001b[0m \u001b[1;33m=\u001b[0m \u001b[1;34m'copy2.txt'\u001b[0m  \u001b[1;31m# 替換為您的 txt 檔案路徑\u001b[0m\u001b[1;33m\u001b[0m\u001b[1;33m\u001b[0m\u001b[0m\n\u001b[1;32m---> 68\u001b[1;33m \u001b[0mprocess_urls_from_file\u001b[0m\u001b[1;33m(\u001b[0m\u001b[0mfile_path\u001b[0m\u001b[1;33m,\u001b[0m \u001b[0mdownload_path\u001b[0m\u001b[1;33m=\u001b[0m\u001b[0mdownload_path\u001b[0m\u001b[1;33m)\u001b[0m\u001b[1;33m\u001b[0m\u001b[1;33m\u001b[0m\u001b[0m\n\u001b[0m",
      "\u001b[1;32m~\\AppData\\Local\\Temp\\ipykernel_46104\\2509740762.py\u001b[0m in \u001b[0;36mprocess_urls_from_file\u001b[1;34m(file_path, download_path)\u001b[0m\n\u001b[0;32m     60\u001b[0m         \u001b[1;32mif\u001b[0m \u001b[0murl\u001b[0m\u001b[1;33m:\u001b[0m\u001b[1;33m\u001b[0m\u001b[1;33m\u001b[0m\u001b[0m\n\u001b[0;32m     61\u001b[0m             \u001b[0mprint\u001b[0m\u001b[1;33m(\u001b[0m\u001b[1;34mf\"處理網址: {url}\"\u001b[0m\u001b[1;33m)\u001b[0m\u001b[1;33m\u001b[0m\u001b[1;33m\u001b[0m\u001b[0m\n\u001b[1;32m---> 62\u001b[1;33m             \u001b[0mopen_and_capture\u001b[0m\u001b[1;33m(\u001b[0m\u001b[0murl\u001b[0m\u001b[1;33m,\u001b[0m \u001b[0mindex\u001b[0m\u001b[1;33m,\u001b[0m \u001b[0mdownload_path\u001b[0m\u001b[1;33m)\u001b[0m\u001b[1;33m\u001b[0m\u001b[1;33m\u001b[0m\u001b[0m\n\u001b[0m\u001b[0;32m     63\u001b[0m \u001b[1;33m\u001b[0m\u001b[0m\n\u001b[0;32m     64\u001b[0m \u001b[1;31m# 使用範例\u001b[0m\u001b[1;33m\u001b[0m\u001b[1;33m\u001b[0m\u001b[1;33m\u001b[0m\u001b[0m\n",
      "\u001b[1;32m~\\AppData\\Local\\Temp\\ipykernel_46104\\2509740762.py\u001b[0m in \u001b[0;36mopen_and_capture\u001b[1;34m(url, index, download_path)\u001b[0m\n\u001b[0;32m     21\u001b[0m     \u001b[0mfilename\u001b[0m \u001b[1;33m=\u001b[0m \u001b[1;34mf\"{index:04d}.png\"\u001b[0m\u001b[1;33m\u001b[0m\u001b[1;33m\u001b[0m\u001b[0m\n\u001b[0;32m     22\u001b[0m     \u001b[0mdriver\u001b[0m\u001b[1;33m,\u001b[0m \u001b[0mfilename\u001b[0m \u001b[1;33m=\u001b[0m \u001b[0mconfigure_webdriver\u001b[0m\u001b[1;33m(\u001b[0m\u001b[0mdownload_path\u001b[0m\u001b[1;33m,\u001b[0m \u001b[0mfilename\u001b[0m\u001b[1;33m)\u001b[0m\u001b[1;33m\u001b[0m\u001b[1;33m\u001b[0m\u001b[0m\n\u001b[1;32m---> 23\u001b[1;33m     \u001b[0mdriver\u001b[0m\u001b[1;33m.\u001b[0m\u001b[0mget\u001b[0m\u001b[1;33m(\u001b[0m\u001b[0murl\u001b[0m\u001b[1;33m)\u001b[0m\u001b[1;33m\u001b[0m\u001b[1;33m\u001b[0m\u001b[0m\n\u001b[0m\u001b[0;32m     24\u001b[0m \u001b[1;33m\u001b[0m\u001b[0m\n\u001b[0;32m     25\u001b[0m     \u001b[1;31m# 等待頁面加載\u001b[0m\u001b[1;33m\u001b[0m\u001b[1;33m\u001b[0m\u001b[1;33m\u001b[0m\u001b[0m\n",
      "\u001b[1;32mc:\\Users\\afour\\miniconda3\\envs\\artc2023\\lib\\site-packages\\selenium\\webdriver\\remote\\webdriver.py\u001b[0m in \u001b[0;36mget\u001b[1;34m(self, url)\u001b[0m\n\u001b[0;32m    352\u001b[0m     \u001b[1;32mdef\u001b[0m \u001b[0mget\u001b[0m\u001b[1;33m(\u001b[0m\u001b[0mself\u001b[0m\u001b[1;33m,\u001b[0m \u001b[0murl\u001b[0m\u001b[1;33m:\u001b[0m \u001b[0mstr\u001b[0m\u001b[1;33m)\u001b[0m \u001b[1;33m->\u001b[0m \u001b[1;32mNone\u001b[0m\u001b[1;33m:\u001b[0m\u001b[1;33m\u001b[0m\u001b[1;33m\u001b[0m\u001b[0m\n\u001b[0;32m    353\u001b[0m         \u001b[1;34m\"\"\"Loads a web page in the current browser session.\"\"\"\u001b[0m\u001b[1;33m\u001b[0m\u001b[1;33m\u001b[0m\u001b[0m\n\u001b[1;32m--> 354\u001b[1;33m         \u001b[0mself\u001b[0m\u001b[1;33m.\u001b[0m\u001b[0mexecute\u001b[0m\u001b[1;33m(\u001b[0m\u001b[0mCommand\u001b[0m\u001b[1;33m.\u001b[0m\u001b[0mGET\u001b[0m\u001b[1;33m,\u001b[0m \u001b[1;33m{\u001b[0m\u001b[1;34m\"url\"\u001b[0m\u001b[1;33m:\u001b[0m \u001b[0murl\u001b[0m\u001b[1;33m}\u001b[0m\u001b[1;33m)\u001b[0m\u001b[1;33m\u001b[0m\u001b[1;33m\u001b[0m\u001b[0m\n\u001b[0m\u001b[0;32m    355\u001b[0m \u001b[1;33m\u001b[0m\u001b[0m\n\u001b[0;32m    356\u001b[0m     \u001b[1;33m@\u001b[0m\u001b[0mproperty\u001b[0m\u001b[1;33m\u001b[0m\u001b[1;33m\u001b[0m\u001b[0m\n",
      "\u001b[1;32mc:\\Users\\afour\\miniconda3\\envs\\artc2023\\lib\\site-packages\\selenium\\webdriver\\remote\\webdriver.py\u001b[0m in \u001b[0;36mexecute\u001b[1;34m(self, driver_command, params)\u001b[0m\n\u001b[0;32m    343\u001b[0m         \u001b[0mresponse\u001b[0m \u001b[1;33m=\u001b[0m \u001b[0mself\u001b[0m\u001b[1;33m.\u001b[0m\u001b[0mcommand_executor\u001b[0m\u001b[1;33m.\u001b[0m\u001b[0mexecute\u001b[0m\u001b[1;33m(\u001b[0m\u001b[0mdriver_command\u001b[0m\u001b[1;33m,\u001b[0m \u001b[0mparams\u001b[0m\u001b[1;33m)\u001b[0m\u001b[1;33m\u001b[0m\u001b[1;33m\u001b[0m\u001b[0m\n\u001b[0;32m    344\u001b[0m         \u001b[1;32mif\u001b[0m \u001b[0mresponse\u001b[0m\u001b[1;33m:\u001b[0m\u001b[1;33m\u001b[0m\u001b[1;33m\u001b[0m\u001b[0m\n\u001b[1;32m--> 345\u001b[1;33m             \u001b[0mself\u001b[0m\u001b[1;33m.\u001b[0m\u001b[0merror_handler\u001b[0m\u001b[1;33m.\u001b[0m\u001b[0mcheck_response\u001b[0m\u001b[1;33m(\u001b[0m\u001b[0mresponse\u001b[0m\u001b[1;33m)\u001b[0m\u001b[1;33m\u001b[0m\u001b[1;33m\u001b[0m\u001b[0m\n\u001b[0m\u001b[0;32m    346\u001b[0m             \u001b[0mresponse\u001b[0m\u001b[1;33m[\u001b[0m\u001b[1;34m\"value\"\u001b[0m\u001b[1;33m]\u001b[0m \u001b[1;33m=\u001b[0m \u001b[0mself\u001b[0m\u001b[1;33m.\u001b[0m\u001b[0m_unwrap_value\u001b[0m\u001b[1;33m(\u001b[0m\u001b[0mresponse\u001b[0m\u001b[1;33m.\u001b[0m\u001b[0mget\u001b[0m\u001b[1;33m(\u001b[0m\u001b[1;34m\"value\"\u001b[0m\u001b[1;33m,\u001b[0m \u001b[1;32mNone\u001b[0m\u001b[1;33m)\u001b[0m\u001b[1;33m)\u001b[0m\u001b[1;33m\u001b[0m\u001b[1;33m\u001b[0m\u001b[0m\n\u001b[0;32m    347\u001b[0m             \u001b[1;32mreturn\u001b[0m \u001b[0mresponse\u001b[0m\u001b[1;33m\u001b[0m\u001b[1;33m\u001b[0m\u001b[0m\n",
      "\u001b[1;32mc:\\Users\\afour\\miniconda3\\envs\\artc2023\\lib\\site-packages\\selenium\\webdriver\\remote\\errorhandler.py\u001b[0m in \u001b[0;36mcheck_response\u001b[1;34m(self, response)\u001b[0m\n\u001b[0;32m    227\u001b[0m                 \u001b[0malert_text\u001b[0m \u001b[1;33m=\u001b[0m \u001b[0mvalue\u001b[0m\u001b[1;33m[\u001b[0m\u001b[1;34m\"alert\"\u001b[0m\u001b[1;33m]\u001b[0m\u001b[1;33m.\u001b[0m\u001b[0mget\u001b[0m\u001b[1;33m(\u001b[0m\u001b[1;34m\"text\"\u001b[0m\u001b[1;33m)\u001b[0m\u001b[1;33m\u001b[0m\u001b[1;33m\u001b[0m\u001b[0m\n\u001b[0;32m    228\u001b[0m             \u001b[1;32mraise\u001b[0m \u001b[0mexception_class\u001b[0m\u001b[1;33m(\u001b[0m\u001b[0mmessage\u001b[0m\u001b[1;33m,\u001b[0m \u001b[0mscreen\u001b[0m\u001b[1;33m,\u001b[0m \u001b[0mstacktrace\u001b[0m\u001b[1;33m,\u001b[0m \u001b[0malert_text\u001b[0m\u001b[1;33m)\u001b[0m  \u001b[1;31m# type: ignore[call-arg]  # mypy is not smart enough here\u001b[0m\u001b[1;33m\u001b[0m\u001b[1;33m\u001b[0m\u001b[0m\n\u001b[1;32m--> 229\u001b[1;33m         \u001b[1;32mraise\u001b[0m \u001b[0mexception_class\u001b[0m\u001b[1;33m(\u001b[0m\u001b[0mmessage\u001b[0m\u001b[1;33m,\u001b[0m \u001b[0mscreen\u001b[0m\u001b[1;33m,\u001b[0m \u001b[0mstacktrace\u001b[0m\u001b[1;33m)\u001b[0m\u001b[1;33m\u001b[0m\u001b[1;33m\u001b[0m\u001b[0m\n\u001b[0m",
      "\u001b[1;31mInvalidArgumentException\u001b[0m: Message: invalid argument\n  (Session info: chrome=130.0.6723.92)\nStacktrace:\n\tGetHandleVerifier [0x00007FF759F63AF5+28005]\n\t(No symbol) [0x00007FF759EC83F0]\n\t(No symbol) [0x00007FF759D65639]\n\t(No symbol) [0x00007FF759D531C3]\n\t(No symbol) [0x00007FF759D515AD]\n\t(No symbol) [0x00007FF759D51DEC]\n\t(No symbol) [0x00007FF759D688AA]\n\t(No symbol) [0x00007FF759DFC6DE]\n\t(No symbol) [0x00007FF759DDBA3A]\n\t(No symbol) [0x00007FF759DFB8B3]\n\t(No symbol) [0x00007FF759DDB7E3]\n\t(No symbol) [0x00007FF759DA75C8]\n\t(No symbol) [0x00007FF759DA8731]\n\tGetHandleVerifier [0x00007FF75A25646D+3118813]\n\tGetHandleVerifier [0x00007FF75A2A6CC0+3448624]\n\tGetHandleVerifier [0x00007FF75A29CF3D+3408301]\n\tGetHandleVerifier [0x00007FF75A02A44B+841403]\n\t(No symbol) [0x00007FF759ED344F]\n\t(No symbol) [0x00007FF759ECF4C4]\n\t(No symbol) [0x00007FF759ECF65D]\n\t(No symbol) [0x00007FF759EBEBB9]\n\tBaseThreadInitThunk [0x00007FFF1B5D257D+29]\n\tRtlUserThreadStart [0x00007FFF1C64AF08+40]\n"
     ]
    }
   ],
   "source": [
    "import time\n",
    "import pyautogui\n",
    "from selenium import webdriver\n",
    "from selenium.webdriver.chrome.options import Options\n",
    "import os\n",
    "\n",
    "def configure_webdriver(download_path, filename):\n",
    "    # 設置 Chrome 下載選項\n",
    "    chrome_options = Options()\n",
    "    prefs = {\n",
    "        \"download.default_directory\": download_path,  # 設定下載目錄\n",
    "        \"download.prompt_for_download\": False,         # 禁用下載確認提示\n",
    "        \"download.directory_upgrade\": True,\n",
    "        \"safebrowsing.enabled\": True                   # 啟用安全瀏覽功能\n",
    "    }\n",
    "    chrome_options.add_experimental_option(\"prefs\", prefs)\n",
    "    return webdriver.Chrome(options=chrome_options), filename\n",
    "\n",
    "def open_and_capture(url, index, download_path):\n",
    "    # 設定自動生成的文件名\n",
    "    filename = f\"{index:04d}.png\"\n",
    "    driver, filename = configure_webdriver(download_path, filename)\n",
    "    driver.get(url)\n",
    "    \n",
    "    # 等待頁面加載\n",
    "    time.sleep(3)\n",
    "\n",
    "    # 按下 F12 鍵以打開開發者工具\n",
    "    pyautogui.press('f12')\n",
    "    time.sleep(1)\n",
    "\n",
    "    # 按下 Ctrl + Shift + P 開啟命令面板\n",
    "    pyautogui.hotkey('ctrl', 'shift', 'p')\n",
    "    time.sleep(1)\n",
    "\n",
    "    # 輸入 \"full\" 以選擇全頁截圖命令\n",
    "    pyautogui.typewrite('full', interval=0.1)\n",
    "    time.sleep(1)\n",
    "\n",
    "    # 按下 Enter 鍵執行截圖命令\n",
    "    pyautogui.press('enter')\n",
    "    time.sleep(3)  # 等待命令執行\n",
    "\n",
    "    print(f\"已將頁面截圖保存至: {download_path}/{filename}\")\n",
    "\n",
    "    # 關閉瀏覽器\n",
    "    driver.quit()\n",
    "\n",
    "def process_urls_from_file(file_path, download_path):\n",
    "    # 創建下載目錄（如果不存在）\n",
    "    os.makedirs(download_path, exist_ok=True)\n",
    "    \n",
    "    # 打開並讀取 txt 檔案\n",
    "    with open(file_path, 'r') as file:\n",
    "        urls = file.readlines()\n",
    "    \n",
    "    # 去除空白行並逐個處理每個 URL\n",
    "    for index, url in enumerate(urls, start=1):\n",
    "        url = url.strip()\n",
    "        if url:\n",
    "            print(f\"處理網址: {url}\")\n",
    "            open_and_capture(url, index, download_path)\n",
    "\n",
    "# 使用範例\n",
    "download_path = './pdf'  # 替換為您的下載目錄\n",
    "# 使用範例\n",
    "file_path = 'copy2.txt'  # 替換為您的 txt 檔案路徑\n",
    "process_urls_from_file(file_path, download_path=download_path)\n"
   ]
  }
 ],
 "metadata": {
  "kernelspec": {
   "display_name": "artc2023",
   "language": "python",
   "name": "python3"
  },
  "language_info": {
   "codemirror_mode": {
    "name": "ipython",
    "version": 3
   },
   "file_extension": ".py",
   "mimetype": "text/x-python",
   "name": "python",
   "nbconvert_exporter": "python",
   "pygments_lexer": "ipython3",
   "version": "3.7.16"
  }
 },
 "nbformat": 4,
 "nbformat_minor": 2
}
